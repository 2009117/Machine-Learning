{
 "cells": [
  {
   "cell_type": "code",
   "execution_count": 7,
   "id": "33f2dfb3",
   "metadata": {},
   "outputs": [],
   "source": [
    "import cv2\n",
    "import matplotlib.pyplot as plt\n",
    "import matplotlib.image as mpimg\n",
    "from IPython.display import display, Image\n",
    "import numpy as np "
   ]
  },
  {
   "cell_type": "markdown",
   "id": "ffd70ed4",
   "metadata": {},
   "source": [
    "#### CHRISTIAN ADRIEL RODRIGUEZ NARVAEZ\n",
    "DATE: 09/10/2023"
   ]
  },
  {
   "cell_type": "markdown",
   "id": "8d9a32f5",
   "metadata": {},
   "source": [
    "# KNN Algorithm"
   ]
  },
  {
   "cell_type": "markdown",
   "id": "0e13b8fa",
   "metadata": {},
   "source": [
    " The KNN Alogorthm is a probabilistic model based on supervised learning. Consist in assing a value (Could be 0 or 1), and depending on the class previous assigned during the process of classification using the nearest neighbor. "
   ]
  },
  {
   "cell_type": "markdown",
   "id": "58403b19",
   "metadata": {},
   "source": [
    "#### Example 1: \n",
    "Image a situation, we are looking for a classification of products. We will divided into ideal (0) and no ideal (1).  We have our dataset of 20 observations, there are ones that are ideal and not ideal. And finally the Y inputs, that are the new values that will be classified.. \n",
    "\n",
    "(1). We already have our amount of data ready to be used. Once we plotted all data, we will see the following "
   ]
  },
  {
   "cell_type": "markdown",
   "id": "8eb4eccd",
   "metadata": {},
   "source": [
    "<img src=https://miro.medium.com/max/752/1*H05vZc-00o9q1rlmzN7d8w.png>"
   ]
  },
  {
   "cell_type": "markdown",
   "id": "28c70e64",
   "metadata": {},
   "source": [
    "As we can notice, the data will be divided in 2 groups, the distribution is evident. Besides, if we add new 3 data in the distribution. The classification will determine which group are the nearest for each new value"
   ]
  },
  {
   "cell_type": "markdown",
   "id": "535ef837",
   "metadata": {},
   "source": [
    "### FIRST PART"
   ]
  },
  {
   "cell_type": "markdown",
   "id": "74ccb094",
   "metadata": {},
   "source": [
    "This part of the code imports necessary libraries (numpy, matplotlib.pyplot, Counter) and defines functions for calculating Euclidean distance between points and implementing the k-nearest neighbors (KNN) algorithm using a KNN class. The KNN class has methods for learning and classifying data based on the KNN approach, utilizing Euclidean distance for proximity measurements."
   ]
  },
  {
   "cell_type": "code",
   "execution_count": 12,
   "id": "ecdf2b74",
   "metadata": {},
   "outputs": [],
   "source": [
    "import numpy as np\n",
    "import matplotlib.pyplot as plt\n",
    "from collections import Counter\n",
    "\n",
    "# Función para calcular la distancia euclidiana entre dos puntos\n",
    "def EUCLIDIANA(x, y):\n",
    "    return np.sqrt(np.sum((x - y) ** 2))\n",
    "\n",
    "class KNN:\n",
    "    def __init__(self, k=4):\n",
    "        self.k = k\n",
    "\n",
    "    def aprendizaje(self, X, C):\n",
    "        self.x = X  # Matriz de Vectores de características\n",
    "        self.c = C  # Clases\n",
    "        self.n_muestras = X.shape[1]  # Cantidad de muestras\n",
    "\n",
    "    def clasificador(self, Y):\n",
    "        clases = []\n",
    "        for i in range(Y.shape[1]):\n",
    "            distancias = np.empty(self.n_muestras)\n",
    "            for n in range(self.n_muestras):\n",
    "                distancias[n] = EUCLIDIANA(self.x[:, n], Y[:, i])\n",
    "\n",
    "            # Distancias más cercanas\n",
    "            k_distancias = np.argsort(distancias)\n",
    "            # Identificar las k distancias - clases\n",
    "            k_etiqueta = self.c[k_distancias[:self.k]]\n",
    "            # Votación\n",
    "            c = Counter(k_etiqueta).most_common(1)\n",
    "            clases.append(c[0][0])  # Almacenamos la clase asignada\n",
    "        return clases\n"
   ]
  },
  {
   "cell_type": "markdown",
   "id": "27fa9f17",
   "metadata": {},
   "source": [
    "### SECOND PART OF THE CODE"
   ]
  },
  {
   "cell_type": "markdown",
   "id": "61184294",
   "metadata": {},
   "source": [
    "The provided code snippet involves the creation of data points representing height and weight, categorizing them into 'Children' and 'Adults', and utilizing a K-nearest neighbors (KNN) classifier to predict classes for new data points. The visual representation of the data is displayed using a scatter plot. The KNN classifier is trained with the initial data points and is then used to classify the new data points accordingly."
   ]
  },
  {
   "cell_type": "code",
   "execution_count": 13,
   "id": "7158b980",
   "metadata": {},
   "outputs": [
    {
     "name": "stderr",
     "output_type": "stream",
     "text": [
      "No artists with labels found to put in legend.  Note that artists whose label start with an underscore are ignored when legend() is called with no argument.\n"
     ]
    },
    {
     "data": {
      "image/png": "[encoded data removed]",
      "text/plain": [
       "<Figure size 640x480 with 1 Axes>"
      ]
     },
     "metadata": {},
     "output_type": "display_data"
    },
    {
     "name": "stdout",
     "output_type": "stream",
     "text": [
      "Clases de puntos y(n) [1, 1, 0]\n"
     ]
    }
   ],
   "source": [
    "x1 = np.array([[180.0], [75.0]])\n",
    "x2 = np.array([[178.0], [70.0]])\n",
    "x3 = np.array([[175.0], [68.0]])\n",
    "x4 = np.array([[185.0], [85.0]])\n",
    "x5 = np.array([[180.0], [80.0]])\n",
    "x6 = np.array([[177.0], [72.0]])\n",
    "x7 = np.array([[183.0], [88.0]])\n",
    "x8 = np.array([[170.0], [68.0]])\n",
    "x9 = np.array([[182.0], [74.0]])\n",
    "x10 = np.array([[188.0], [90.0]])\n",
    "x11 = np.array([[140.0], [40.0]])\n",
    "x12 = np.array([[145.0], [42.0]])\n",
    "x13 = np.array([[130.0], [35.0]])\n",
    "x14 = np.array([[150.0], [45.0]])\n",
    "x15 = np.array([[135.0], [38.0]])\n",
    "x16 = np.array([[142.0], [41.0]])\n",
    "x17 = np.array([[155.0], [50.0]])\n",
    "x18 = np.array([[132.0], [37.0]])\n",
    "x19 = np.array([[148.0], [43.0]])\n",
    "x20 = np.array([[138.0], [39.0]])\n",
    "# -----------------------------------------------------------\n",
    "\n",
    "c0 = np.ones(10)  # Niños\n",
    "c1 = np.zeros(10)  # Adultos\n",
    "\n",
    "X = np.concatenate((x1, x2, x3, x4, x5, x6, x7, x8, x9, x10, x11, x12, x13, x14, x15, x16, x17, x18, x19, x20), axis=1)\n",
    "C = np.concatenate((c0, c1), axis=0)\n",
    "C = np.uint8(C)\n",
    "\n",
    "# Nuevos datos\n",
    "y1 = np.array([[165.0], [66.0]])\n",
    "y2 = np.array([[180.0], [60.0]])\n",
    "y3 = np.array([[140.0], [40.0]])\n",
    "Y = np.concatenate((y1, y2, y3), axis=1)\n",
    "\n",
    "# Visualización de los datos\n",
    "for i in range(X.shape[1]):\n",
    "    if C[i] == 0:\n",
    "        marcar = 'x'\n",
    "        color = 'red'\n",
    "    else:\n",
    "        marcar = 'o'\n",
    "        color = 'blue'\n",
    "    plt.scatter(x=X[0, i], y=X[1, i], c=color, s=100, marker=marcar)\n",
    "\n",
    "for j in range(Y.shape[1]):\n",
    "    plt.scatter(x=Y[0, j], y=Y[1, j], c='black', s=100, marker='s')\n",
    "\n",
    "plt.xlabel('Altura')\n",
    "plt.ylabel('Peso')\n",
    "plt.title('Classificator of Kid and Adutl')\n",
    "plt.legend()\n",
    "plt.show()\n",
    "\n",
    "# Iniciar KNN\n",
    "clasificador = KNN(k=5)\n",
    "clasificador.aprendizaje(X, C)\n",
    "clasificar = clasificador.clasificador(Y)\n",
    "print('Clases de puntos y(n)', clasificar)\n"
   ]
  },
  {
   "cell_type": "markdown",
   "id": "242676f0",
   "metadata": {},
   "source": [
    "#### So, there are 2 adults and 1 kid"
   ]
  },
  {
   "cell_type": "markdown",
   "id": "fa8f9aab",
   "metadata": {},
   "source": [
    "### PSEUDOCODE "
   ]
  },
  {
   "cell_type": "markdown",
   "id": "65f95e38",
   "metadata": {},
   "source": [
    "1. Import necessary libraries: numpy, matplotlib.pyplot, collections.Counter\n",
    "\n",
    "2. Define the function to calculate the Euclidean distance between two points:\n",
    "   - Function EUCLIDIAN(x, y):\n",
    "     - Return sqrt(sum((x - y) ** 2))\n",
    "\n",
    "3. Define the KNN class:\n",
    "   - Initialize the class with k as a parameter (default k=4)\n",
    "   - Method learning(self, X, C):\n",
    "     - Save X as the feature vectors and C as the classes\n",
    "   - Method classifier(self, Y):\n",
    "     - Initialize an empty list called \"classes\"\n",
    "     - For each column in Y:\n",
    "       - Calculate distances to each sample in X using the EUCLIDIAN function\n",
    "       - Find the k nearest distances\n",
    "       - Identify the k classes corresponding to the nearest distances\n",
    "       - Conduct a vote to determine the most common class among the k classes\n",
    "       - Store the most common class in the \"classes\" list\n",
    "     - Return the \"classes\" list with the predicted classes\n",
    "\n",
    "4. Define the Height and Weight data:\n",
    "   - Define several data sets x1, x2, ..., x20 with height and weight values\n",
    "\n",
    "5. Define the corresponding classes for height and weight data:\n",
    "   - Assign classes \"Child\" (c0) and \"Adult\" (c1)\n",
    "\n",
    "6. Concatenate the data and classes:\n",
    "   - Concatenate the data sets x1, x2, ..., x20\n",
    "   - Concatenate the corresponding classes\n",
    "\n",
    "7. Define new Height and Weight data for prediction:\n",
    "   - Define new data sets y1, y2, y3\n",
    "\n",
    "8. Visualize the data:\n",
    "   - For each sample in X:\n",
    "     - If the class is 0 (children), mark with \"x\" and color red\n",
    "     - If the class is 1 (adults), mark with \"o\" and color blue\n",
    "   - For each sample in Y:\n",
    "     - Mark with \"s\" and color black\n",
    "\n",
    "9. Display the plot with the visualized data.\n",
    "\n",
    "10. Initialize the KNN classifier with k=5\n",
    "11. Train the KNN classifier with the data and classes\n",
    "12. Classify the new data using the KNN classifier\n",
    "13. Print the predicted classes for the new data.\n",
    "\n"
   ]
  }
 ],
 "metadata": {
  "kernelspec": {
   "display_name": "Python 3 (ipykernel)",
   "language": "python",
   "name": "python3"
  },
  "language_info": {
   "codemirror_mode": {
    "name": "ipython",
    "version": 3
   },
   "file_extension": ".py",
   "mimetype": "text/x-python",
   "name": "python",
   "nbconvert_exporter": "python",
   "pygments_lexer": "ipython3",
   "version": "3.11.5"
  }
 },
 "nbformat": 4,
 "nbformat_minor": 5
}
